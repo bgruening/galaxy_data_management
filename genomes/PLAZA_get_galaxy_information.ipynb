{
 "cells": [
  {
   "cell_type": "markdown",
   "metadata": {},
   "source": [
    "# Get PLAZA information for Galaxy\n",
    "\n",
    "Get all genomes and annotations available in PLAZA v4, formatted to be used in Galaxy\n",
    "The genome annotations were curated so they always match the genome info"
   ]
  },
  {
   "cell_type": "code",
   "execution_count": 1,
   "metadata": {},
   "outputs": [],
   "source": [
    "import json\n",
    "from jinja2 import Environment\n",
    "import urllib\n",
    "from urllib.error import HTTPError, URLError"
   ]
  },
  {
   "cell_type": "code",
   "execution_count": 2,
   "metadata": {},
   "outputs": [],
   "source": [
    "# Testing: only one genome, some debug info\n",
    "debug = False # change to True to get the full list\n",
    "genome_for_testing = \"Micromonas commoda\""
   ]
  },
  {
   "cell_type": "markdown",
   "metadata": {},
   "source": [
    "## Template for genomes file"
   ]
  },
  {
   "cell_type": "code",
   "execution_count": 3,
   "metadata": {},
   "outputs": [],
   "source": [
    "genome_j2 = \"\"\"genomes:{% for genome in genomes %}\n",
    "    - url: {{ genome.url }}\n",
    "      name: {{ genome.name }}\n",
    "      id: {{ genome.id }}{% endfor %}\"\"\""
   ]
  },
  {
   "cell_type": "markdown",
   "metadata": {},
   "source": [
    "## Getting genome information available for Galaxy through PLAZA API"
   ]
  },
  {
   "cell_type": "code",
   "execution_count": 4,
   "metadata": {},
   "outputs": [],
   "source": [
    "plaza_api_calls = {\n",
    "    'monocots_v4': 'https://bioinformatics.psb.ugent.be/plaza/versions/plaza_v4_monocots/api/get_galaxy_information',\n",
    "    'dicots_v4': 'https://bioinformatics.psb.ugent.be/plaza/versions/plaza_v4_dicots/api/get_galaxy_information',\n",
    "}"
   ]
  },
  {
   "cell_type": "code",
   "execution_count": 5,
   "metadata": {},
   "outputs": [
    {
     "name": "stdout",
     "output_type": "stream",
     "text": [
      "Getting info for monocots_v4\n",
      "Getting info for dicots_v4\n"
     ]
    }
   ],
   "source": [
    "call_results = []\n",
    "\n",
    "for key, api_call in plaza_api_calls.items():\n",
    "    print(\"Getting info for {}\".format(key))\n",
    "    try:\n",
    "        with urllib.request.urlopen(api_call) as response:\n",
    "            html = response.read()\n",
    "    except HTTPError as e:\n",
    "        print('The server couldn\\'t fulfill the request.')\n",
    "        print('Error code: ', e.code)\n",
    "    except URLError as e:\n",
    "        print('We failed to reach a server.')\n",
    "        print('Reason: ', e.reason)\n",
    "    else:\n",
    "        pass\n",
    "    plaza_list = json.loads(html.decode('utf-8'))\n",
    "    if debug:\n",
    "        print(json.dumps(plaza_list, sort_keys=True, indent=4))\n",
    "    call_results.append(plaza_list)"
   ]
  },
  {
   "cell_type": "code",
   "execution_count": 6,
   "metadata": {},
   "outputs": [
    {
     "name": "stdout",
     "output_type": "stream",
     "text": [
      "Amborella trichopoda\n",
      "Ananas comosus\n",
      "Arabidopsis thaliana\n",
      "Brachypodium distachyon\n",
      "Chlamydomonas reinhardtii\n",
      "Elaeis guineensis\n",
      "Hordeum vulgare\n",
      "Marchantia polymorpha\n",
      "Micromonas commoda\n",
      "Musa acuminata\n",
      "Oropetium thomaeum\n",
      "Oryza brachyantha\n",
      "Oryza sativa ssp. indica\n",
      "Oryza sativa ssp. japonica\n",
      "Phalaenopsis equestris\n",
      "Phyllostachys edulis\n",
      "Physcomitrella patens\n",
      "Picea abies\n",
      "Populus trichocarpa\n",
      "Selaginella moellendorffii\n",
      "Setaria italica\n",
      "Solanum lycopersicum\n",
      "Sorghum bicolor\n",
      "Spirodela polyrhiza\n",
      "Triticum aestivum\n",
      "Vitis vinifera\n",
      "Zea mays\n",
      "Zostera marina\n",
      "Zoysia japonica ssp. nagirizaki\n",
      "Actinidia chinensis\n",
      "Amaranthus hypochondriacus\n",
      "\n",
      "!!! Not all necessary fields are provided !!!\n",
      "{\n",
      "    \"URL\": \"https://phytozome.jgi.doe.gov/pz/portal.html#!info?alias=Org_Ahypochondriacus_er\",\n",
      "    \"common_name\": \"Amaranthus hypochondriacus\",\n",
      "    \"eco_type\": null,\n",
      "    \"fasta\": {\n",
      "        \"cds\": \"\",\n",
      "        \"genome\": \"\",\n",
      "        \"proteome\": \"\"\n",
      "    },\n",
      "    \"gff\": [],\n",
      "    \"pubmed_id\": \"28854926\",\n",
      "    \"species\": \"ahy\",\n",
      "    \"tax_id\": \"28502\",\n",
      "    \"version\": \"JGI v2.1\"\n",
      "}\n",
      "\n",
      "\n",
      "Amborella trichopoda\n",
      "\tGenome for Amborella trichopoda already captured\n",
      "Arabidopsis lyrata\n",
      "Arabidopsis thaliana\n",
      "\tGenome for Arabidopsis thaliana already captured\n",
      "Arachis ipaensis\n",
      "Beta vulgaris\n",
      "Brassica oleracea\n",
      "Brassica rapa\n",
      "Cajanus cajan\n",
      "Capsella rubella\n",
      "Capsicum annuum\n",
      "Carica papaya\n",
      "Chenopodium quinoa\n",
      "Chlamydomonas reinhardtii\n",
      "\tGenome for Chlamydomonas reinhardtii already captured\n",
      "Cicer arietinum\n",
      "Citrullus lanatus\n",
      "Citrus clementina\n",
      "Coffea canephora\n",
      "Corchorus olitorius\n",
      "Cucumis melo\n",
      "Cucumis sativus L.\n",
      "Daucus carota\n",
      "Erythranthe guttata\n",
      "Eucalyptus grandis\n",
      "Fragaria vesca\n",
      "Glycine max\n",
      "Gossypium raimondii\n",
      "Hevea brasiliensis\n",
      "Malus domestica\n",
      "Manihot esculenta\n",
      "Marchantia polymorpha\n",
      "\tGenome for Marchantia polymorpha already captured\n",
      "Medicago truncatula\n",
      "Micromonas commoda\n",
      "\tGenome for Micromonas commoda already captured\n",
      "Nelumbo nucifera\n",
      "Oryza sativa ssp. japonica\n",
      "\tGenome for Oryza sativa ssp. japonica already captured\n",
      "Petunia axillaris\n",
      "Physcomitrella patens\n",
      "\tGenome for Physcomitrella patens already captured\n",
      "Picea abies\n",
      "\tGenome for Picea abies already captured\n",
      "Populus trichocarpa\n",
      "\tGenome for Populus trichocarpa already captured\n",
      "Prunus persica\n",
      "Pyrus bretschneideri\n",
      "Ricinus communis\n",
      "Schrenkiella parvula\n",
      "Selaginella moellendorffii\n",
      "\tGenome for Selaginella moellendorffii already captured\n",
      "Solanum lycopersicum\n",
      "\tGenome for Solanum lycopersicum already captured\n",
      "Solanum tuberosum\n",
      "Tarenaya hassleriana\n",
      "Theobroma cacao\n",
      "Trifolium pratense\n",
      "Utricularia gibba\n",
      "Vigna radiata var. radiata\n",
      "Vitis vinifera\n",
      "\tGenome for Vitis vinifera already captured\n",
      "Zea mays\n",
      "\tGenome for Zea mays already captured\n",
      "Ziziphus jujuba\n"
     ]
    }
   ],
   "source": [
    "genomes = {}\n",
    "\n",
    "for plaza_list in call_results:\n",
    "\n",
    "    for item in plaza_list: \n",
    "        print(item['common_name'])\n",
    "        \n",
    "        if debug:\n",
    "            if item['common_name'] != genome_for_testing:\n",
    "                print(\"\\tSkipping in testing mode\")\n",
    "                continue\n",
    "                \n",
    "        if item['common_name'] in genomes:\n",
    "            print(\"\\tGenome for {} already captured\".format(item['common_name']))\n",
    "            continue\n",
    "        \n",
    "        try:\n",
    "            if item['eco_type'] == None:\n",
    "                name = \"{common_name} {version}\".format(**item)\n",
    "                gid = \"{common_name} {version}\".format(**item).replace(' ','_')\n",
    "            else:\n",
    "                name = \"{common_name} {eco_type} {version}\".format(**item)\n",
    "                gid = \"{common_name} {eco_type} {version}\".format(**item).replace(' ','_')\n",
    "            url = item['fasta']['genome']['location']\n",
    "                        \n",
    "            genomes[item['common_name']] = {'url': url, 'id': gid, 'name': name}\n",
    "        except TypeError:\n",
    "            print(\"\\n!!! Not all necessary fields are provided !!!\")\n",
    "            print(json.dumps(item, sort_keys=True, indent=4))\n",
    "            print(\"\\n\")\n",
    "\n",
    "        except :\n",
    "            print(\"Error\")\n",
    "            print(json.dumps(item, sort_keys=True, indent=4))"
   ]
  },
  {
   "cell_type": "code",
   "execution_count": 7,
   "metadata": {},
   "outputs": [
    {
     "name": "stdout",
     "output_type": "stream",
     "text": [
      "\n",
      "Genomes found on PLAZA FTP: 70\n"
     ]
    }
   ],
   "source": [
    "print(\"\\nGenomes found on PLAZA FTP: {}\".format(len(genomes)))"
   ]
  },
  {
   "cell_type": "markdown",
   "metadata": {},
   "source": [
    "## Write genomes to file"
   ]
  },
  {
   "cell_type": "code",
   "execution_count": 8,
   "metadata": {},
   "outputs": [],
   "source": [
    "genome_list = []\n",
    "for k, v in sorted(genomes.items()):\n",
    "    genome_list.append(v)\n",
    "\n",
    "with open('genomes.yaml', 'w') as f:\n",
    "    f.write(Environment().from_string(genome_j2).render(genomes=genome_list))"
   ]
  },
  {
   "cell_type": "markdown",
   "metadata": {},
   "source": [
    "## Get complete yaml file"
   ]
  },
  {
   "cell_type": "code",
   "execution_count": 9,
   "metadata": {},
   "outputs": [],
   "source": [
    "!echo \"\\n\" >> genomes.yaml # making sure there is a new line at the end\n",
    "!cat genomes.yaml data_managers.yaml > genome_data_manager.yaml"
   ]
  }
 ],
 "metadata": {
  "kernelspec": {
   "display_name": "Python 3",
   "language": "python",
   "name": "python3"
  },
  "language_info": {
   "codemirror_mode": {
    "name": "ipython",
    "version": 3
   },
   "file_extension": ".py",
   "mimetype": "text/x-python",
   "name": "python",
   "nbconvert_exporter": "python",
   "pygments_lexer": "ipython3",
   "version": "3.6.4"
  }
 },
 "nbformat": 4,
 "nbformat_minor": 2
}
